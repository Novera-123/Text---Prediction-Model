{
  "nbformat": 4,
  "nbformat_minor": 0,
  "metadata": {
    "colab": {
      "provenance": [],
      "gpuType": "T4"
    },
    "kernelspec": {
      "name": "python3",
      "display_name": "Python 3"
    },
    "language_info": {
      "name": "python"
    },
    "accelerator": "GPU"
  },
  "cells": [
    {
      "cell_type": "code",
      "execution_count": 4,
      "metadata": {
        "id": "D467-Gb5iBIL"
      },
      "outputs": [],
      "source": [
        "import tensorflow as tf"
      ]
    },
    {
      "cell_type": "code",
      "source": [
        "from tensorflow.keras.preprocessing.sequence import pad_sequences\n",
        "from tensorflow.keras.layers import Embedding, LSTM ,Dense , Bidirectional\n",
        "from tensorflow.keras.preprocessing.text import Tokenizer\n",
        "from tensorflow.keras.models import Sequential\n",
        "from tensorflow.keras.optimizers import Adam\n",
        "import numpy as np"
      ],
      "metadata": {
        "id": "n0KaJ2Thiir0"
      },
      "execution_count": 5,
      "outputs": []
    },
    {
      "cell_type": "code",
      "source": [
        "data= open('/content/beatles.txt').read()"
      ],
      "metadata": {
        "id": "8_UZ2nWnlbBU"
      },
      "execution_count": 6,
      "outputs": []
    },
    {
      "cell_type": "code",
      "source": [
        "corpus= data.lower().split('\\n')"
      ],
      "metadata": {
        "id": "9g3Ows7imlgh"
      },
      "execution_count": 7,
      "outputs": []
    },
    {
      "cell_type": "code",
      "source": [
        "tokenizer=Tokenizer()\n",
        "tokenizer.fit_on_texts(corpus)\n",
        "total_words=len(tokenizer.word_index) + 1"
      ],
      "metadata": {
        "id": "i23LaeNTmvgO"
      },
      "execution_count": 8,
      "outputs": []
    },
    {
      "cell_type": "code",
      "source": [
        "print(tokenizer.word_index)\n",
        "print(total_words)"
      ],
      "metadata": {
        "colab": {
          "base_uri": "https://localhost:8080/"
        },
        "id": "MeQ_MIAMnVAH",
        "outputId": "a284f5bd-9418-4e18-ca95-8099ab18baa9"
      },
      "execution_count": 9,
      "outputs": [
        {
          "output_type": "stream",
          "name": "stdout",
          "text": [
            "{'you': 1, 'i': 2, 'the': 3, 'to': 4, 'and': 5, 'love': 6, 'a': 7, 'me': 8, 'in': 9, 'all': 10, 'nah': 11, 'my': 12, 'it': 13, 'know': 14, 'be': 15, 'that': 16, 'of': 17, 'on': 18, 'she': 19, 'is': 20, 'say': 21, 'now': 22, 'oh': 23, 'yeah': 24, 'your': 25, 'get': 26, \"don't\": 27, 'back': 28, 'let': 29, 'with': 30, 'her': 31, 'can': 32, \"it's\": 33, 'do': 34, \"i'm\": 35, 'when': 36, 'come': 37, 'will': 38, 'he': 39, 'but': 40, 'for': 41, 'so': 42, 'need': 43, 'there': 44, 'like': 45, 'no': 46, 'together': 47, \"i'll\": 48, 'see': 49, 'was': 50, 'never': 51, 'we': 52, 'down': 53, 'way': 54, 'if': 55, 'want': 56, 'out': 57, 'hey': 58, 'one': 59, 'got': 60, 'go': 61, 'well': 62, \"can't\": 63, 'girl': 64, 'good': 65, 'his': 66, 'sun': 67, 'they': 68, 'home': 69, 'hello': 70, 'day': 71, 'are': 72, 'ah': 73, 'right': 74, 'little': 75, 'at': 76, 'from': 77, 'man': 78, 'here': 79, 'help': 80, 'gonna': 81, 'have': 82, 'not': 83, 'world': 84, 'going': 85, 'what': 86, 'still': 87, 'how': 88, 'too': 89, 'please': 90, 'as': 91, \"you're\": 92, 'just': 93, 'time': 94, 'make': 95, 'long': 96, 'yes': 97, 'yellow': 98, 'life': 99, 'why': 100, 'think': 101, 'only': 102, 'been': 103, 'once': 104, 'tell': 105, 'sky': 106, 'people': 107, 'eyes': 108, 'where': 109, \"she's\": 110, 'up': 111, 'jude': 112, 'take': 113, 'submarine': 114, 'sing': 115, 'give': 116, 'nowhere': 117, 'hold': 118, 'look': 119, 'goodbye': 120, 'away': 121, 'friends': 122, 'darling': 123, 'lonely': 124, 'boy': 125, 'nothing': 126, 'always': 127, 'hand': 128, \"we're\": 129, 'am': 130, 'goo': 131, 'should': 132, 'comes': 133, 'night': 134, 'feel': 135, 'some': 136, 'could': 137, 'had': 138, 'better': 139, 'them': 140, 'would': 141, 'head': 142, \"i've\": 143, 'more': 144, 'four': 145, 'buy': 146, 'mind': 147, 'carry': 148, 'this': 149, 'la': 150, 'everything': 151, 'two': 152, 'change': 153, 'by': 154, 'weight': 155, 'us': 156, 'our': 157, 'lucy': 158, 'sunshine': 159, 'believe': 160, 'an': 161, 'words': 162, 'before': 163, \"you'll\": 164, 'these': 165, 'pretty': 166, 'birthday': 167, \"i'd\": 168, 'three': 169, 'every': 170, 'diamonds': 171, 'true': 172, \"there's\": 173, 'said': 174, 'mm': 175, 'were': 176, 'forever': 177, 'dear': 178, 'mine': 179, 'nobody': 180, 'round': 181, 'leave': 182, 'money': 183, 'told': 184, 'work': 185, 'bom': 186, 'something': 187, 'hide': 188, 'standing': 189, 'then': 190, 'who': 191, 'waiting': 192, 'about': 193, \"'cause\": 194, 'children': 195, 'saw': 196, \"didn't\": 197, 'try': 198, 'loves': 199, 'yesterday': 200, \"nothing's\": 201, 'gone': 202, 'things': 203, 'stop': 204, 'sleep': 205, 'cry': 206, 'hard': 207, 'di': 208, \"he's\": 209, 'days': 210, 'alone': 211, 'because': 212, 'falling': 213, 'again': 214, 'prudence': 215, 'bang': 216, 'though': 217, 'came': 218, 'around': 219, 'mean': 220, 'has': 221, 'till': 222, 'juba': 223, 'shake': 224, 'loving': 225, 'eight': 226, 'five': 227, 'play': 228, 'place': 229, 'find': 230, 'may': 231, 'someone': 232, 'dead': 233, 'years': 234, 'send': 235, 'strawberry': 236, 'fields': 237, 'or': 238, 'band': 239, 'door': 240, 'happy': 241, 'garden': 242, 'anybody': 243, 'today': 244, \"won't\": 245, 'live': 246, 'blue': 247, 'while': 248, 'hela': 249, 'heaven': 250, 'week': 251, 'six': 252, 'seven': 253, 'rocky': 254, 'such': 255, 'easy': 256, 'answer': 257, 'into': 258, 'dance': 259, 'heart': 260, 'lullaby': 261, 'high': 262, 'face': 263, 'him': 264, 'does': 265, 'ask': 266, 'somebody': 267, 'any': 268, 'feeling': 269, 'knows': 270, 'talk': 271, \"you've\": 272, 'another': 273, 'belonged': 274, 'glad': 275, 'heba': 276, 'helloa': 277, 'baby': 278, 'twist': 279, 'kind': 280, 'care': 281, 'jai': 282, 'guru': 283, 'deva': 284, 'bad': 285, 'fool': 286, 'found': 287, 'loved': 288, 'fly': 289, 'seems': 290, 'fill': 291, 'done': 292, \"isn't\": 293, 'real': 294, 'much': 295, 'molly': 296, 'ever': 297, 'many': 298, 'understand': 299, 'sea': 300, 'beneath': 301, \"g'\": 302, 'joob': 303, 'penny': 304, 'lane': 305, 'keeps': 306, 'whoa': 307, 'sgt': 308, 'bompa': 309, 'ussr': 310, 'silver': 311, 'hoo': 312, 'taxman': 313, 'stay': 314, 'wisdom': 315, 'rain': 316, 'their': 317, 'remember': 318, 'made': 319, 'new': 320, 'went': 321, 'blackbird': 322, 'must': 323, 'desmond': 324, 'sweet': 325, 'last': 326, 'really': 327, 'smile': 328, 'show': 329, 'hear': 330, 'hmm': 331, 'crying': 332, 'sitting': 333, 'tired': 334, \"that's\": 335, 'behind': 336, 'room': 337, 'hope': 338, 'alright': 339, \"pepper's\": 340, 'lead': 341, 'everywhere': 342, 'road': 343, 'babe': 344, \"octopus'\": 345, 'bulldog': 346, 'woah': 347, 'hammer': 348, \"they're\": 349, 'wrong': 350, 'living': 351, 'through': 352, 'ears': 353, 'song': 354, 'under': 355, 'making': 356, 'changed': 357, 'lose': 358, 'singing': 359, 'learn': 360, 'dark': 361, 'homeward': 362, 'dream': 363, 'hair': 364, 'feed': 365, 'sixty': 366, 'doing': 367, \"somethin'\": 368, 'feet': 369, 'other': 370, 'old': 371, 'looking': 372, 'hill': 373, 'heard': 374, 'guitar': 375, 'gently': 376, 'weeps': 377, 'laugh': 378, 'fell': 379, 'michelle': 380, 'tres': 381, 'bien': 382, 'ensemble': 383, 'thought': 384, 'girls': 385, 'party': 386, 'shout': 387, 'each': 388, 'tight': 389, 'friend': 390, 'calling': 391, 'imagine': 392, 'harm': 393, 'phone': 394, \"maxwell's\": 395, 'o': 396, 'over': 397, 'times': 398, 'broken': 399, 'light': 400, 'until': 401, 'paper': 402, 'across': 403, 'waves': 404, 'wind': 405, 'sad': 406, 'moment': 407, 'free': 408, 'since': 409, 'smiles': 410, 'middle': 411, 'break': 412, 'dreams': 413, \"doesn't\": 414, 'says': 415, 'takes': 416, 'ob': 417, 'knee': 418, 'than': 419, 'thing': 420, 'walrus': 421, \"ain't\": 422, 'near': 423, 'turn': 424, 'seen': 425, 'lucky': 426, 'sure': 427, 'bed': 428, 'very': 429, 'skies': 430, 'sit': 431, 'knew': 432, 'left': 433, 'makes': 434, 'yourself': 435, 'rock': 436, 'spinning': 437, 'kiss': 438, 'die': 439, 'oo': 440, 'hearts': 441, 'club': 442, 'met': 443, 'peace': 444, 'sees': 445, \"wouldn't\": 446, 'speaking': 447, 'whisper': 448, 'chance': 449, 'tomorrow': 450, 'music': 451, 'universe': 452, 'opened': 453, 'start': 454, 'upon': 455, 'places': 456, 'lovers': 457, 'affection': 458, 'often': 459, 'arise': 460, 'black': 461, 'doo': 462, 'golden': 463, 'tonight': 464, 'end': 465, 'save': 466, 'known': 467, 'hung': 468, 'tree': 469, 'low': 470, 'chorus': 471, 'goes': 472, 'ring': 473, 'couple': 474, 'after': 475, 'older': 476, 'wine': 477, 'point': 478, 'view': 479, 'indicate': 480, 'first': 481, 'younger': 482, 'ground': 483, 'green': 484, 'ahead': 485, 'apart': 486, 'stand': 487, 'run': 488, 'eggman': 489, 'eggmen': 490, 'ho': 491, 'sleeping': 492, 'read': 493, 'news': 494, 'ma': 495, 'belle': 496, 'everyone': 497, 'write': 498, 'roll': 499, 'off': 500, 'looked': 501, 'working': 502, 'hands': 503, 'held': 504, \"day's\": 505, 'lot': 506, 'tells': 507, 'wants': 508, 'knowing': 509, 'someday': 510, 'listen': 511, 'shade': 512, 'anymore': 513, 'nearly': 514, 'broke': 515, 'ha': 516, 'plans': 517, 'maxwell': 518, 'tax': 519, 'suddenly': 520, 'game': 521, 'myself': 522, 'shine': 523, 'om': 524, 'inside': 525, 'ringing': 526, 'calls': 527, 'begin': 528, 'pain': 529, 'plays': 530, 'feels': 531, 'slowly': 532, 'slumbers': 533, 'rise': 534, 'equal': 535, 'everybody': 536, 'getting': 537, 'da': 538, 'gives': 539, 'built': 540, 'running': 541, 'lend': 542, 'evening': 543, 'sending': 544, 'lights': 545, 'sunday': 546, 'summer': 547, 'rent': 548, 'drop': 549, 'touch': 550, 'guess': 551, 'appreciate': 552, 'being': 553, 'lover': 554, 'shows': 555, 'grow': 556, 'below': 557, 'wonderful': 558, \"we'd\": 559, 'pictures': 560, 'lived': 561, 'land': 562, 'full': 563, 'speed': 564, 'mr': 565, 'sir': 566, 'name': 567, 'loud': 568, 'walk': 569, 'row': 570, 'english': 571, 'hee': 572, 'hah': 573, 'father': 574, 'notice': 575, 'house': 576, 'holes': 577, 'small': 578, 'sont': 579, 'les': 580, 'mots': 581, 'qui': 582, 'vont': 583, 'hoping': 584, 'barber': 585, 'banker': 586, 'suburban': 587, 'meanwhile': 588, 'keep': 589, 'jojo': 590, 'cha': 591, 'boat': 592, 'junior': 593, 'behave': 594, 'lost': 595, \"you'd\": 596, 'ooh': 597, 'morning': 598, 'honey': 599, 'fine': 600, 'woo': 601, 'hurt': 602, 'belong': 603, 'writing': 604, 'died': 605, 'fall': 606, 'missing': 607, 'dog': 608, 'earth': 609, 'ok': 610, 'holding': 611, 'diamond': 612, 'anything': 613, 'ago': 614, \"we've\": 615, 'wonder': 616, 'winding': 617, 'cried': 618, 'tried': 619, 'young': 620, 'ten': 621, 'e': 622, 'measured': 623, 'quiet': 624, 'knock': 625, 'pay': 626, 'monday': 627, 'soon': 628, 'king': 629, 'pam': 630, 'dirty': 631, 'polythene': 632, \"majesty's\": 633, 'nice': 634, 'realized': 635, 'raccoon': 636, 'even': 637, 'looks': 638, 'mother': 639, 'mary': 640, 'agree': 641, 'shines': 642, 'sound': 643, 'cup': 644, 'joy': 645, 'which': 646, 'million': 647, 'call': 648, 'sounds': 649, 'skin': 650, 'cool': 651, 'remain': 652, 'moments': 653, 'recall': 654, 'compares': 655, 'memories': 656, 'meaning': 657, 'wings': 658, 'cold': 659, 'awake': 660, 'pillow': 661, 'invitations': 662, 'celebrations': 663, 'saved': 664, 'works': 665, 'matter': 666, 'tune': 667, 'singer': 668, 'bra': 669, 'twenty': 670, 'begins': 671, 'kids': 672, 'yard': 673, 'jones': 674, 'market': 675, 'lets': 676, 'stays': 677, 'losing': 678, 'valentine': 679, 'greetings': 680, 'bottle': 681, 'quarter': 682, 'lock': 683, 'word': 684, 'handy': 685, 'mending': 686, 'fuse': 687, 'knit': 688, 'sweater': 689, 'fireside': 690, 'ride': 691, 'digging': 692, 'weeds': 693, 'cottage': 694, 'isle': 695, 'wight': 696, 'shall': 697, 'scrimp': 698, 'grandchildren': 699, 'vera': 700, 'chuck': 701, 'dave': 702, 'postcard': 703, 'line': 704, 'stating': 705, 'precisely': 706, 'sincerely': 707, 'wasting': 708, 'form': 709, \"feelin'\": 710, 'past': 711, 'needed': 712, \"anybody's\": 713, 'self': 714, 'assured': 715, 'doors': 716, 'ways': 717, 'somewhere': 718, 'style': 719, 'flat': 720, 'joo': 721, 'roller': 722, 'joker': 723, 'finger': 724, 'shoot': 725, 'early': 726, 'birds': 727, 'roses': 728, 'fragrant': 729, 'meadows': 730, 'dawn': 731, 'dew': 732, 'count': 733, 'brother': 734, 'wait': 735, 'town': 736, 'sailed': 737, 'next': 738, 'cut': 739, 'cable': 740, 'aye': 741, 'captain': 742, 'whenever': 743, 'air': 744, 'endear': 745, 'worry': 746, 'own': 747, 'sight': 748, 'pigs': 749, 'gun': 750, 'stupid': 751, 'naughty': 752, 'eye': 753, 'set': 754, 'turning': 755, 'rather': 756, 'car': 757, 'crowd': 758, 'book': 759, 'noticed': 760, 'late': 761, 'thousand': 762, 'pleasure': 763, 'corner': 764, 'pouring': 765, 'strange': 766, 'fireman': 767, 'queen': 768, 'fire': 769, 'clean': 770, 'pies': 771, 'shaves': 772, 'loretta': 773, 'woman': 774, 'coming': 775, 'gets': 776, 'turns': 777, 'picture': 778, 'quite': 779, 'kaleidoscope': 780, 'flowers': 781, 'rocking': 782, 'eat': 783, 'appear': 784, 'clouds': 785, 'school': 786, 'chair': 787, 'puts': 788, 'teacher': 789, 'ready': 790, \"junior's\": 791, 'shop': 792, 'bath': 793, 'brings': 794, 'bright': 795, 'stars': 796, 'bye': 797, 'wow': 798, 'norwegian': 799, 'wood': 800, 'worked': 801, 'closer': 802, 'yi': 803, 'yay': 804, 'thinking': 805, 'pride': 806, 'eleanor': 807, 'rigby': 808, 'church': 809, 'waits': 810, 'window': 811, 'wearing': 812, 'mckenzie': 813, 'along': 814, 'boom': 815, 'crossed': 816, 'danced': 817, 'close': 818, 'miss': 819, 'lips': 820, 'log': 821, 'moan': 822, 'owww': 823, 'special': 824, 'sunny': 825, 'lie': 826, 'satisfied': 827, 'introduce': 828, 'might': 829, 'beside': 830, 'share': 831, 'believing': 832, 'dies': 833, 'watching': 834, 'forget': 835, \"di'n'di\": 836, 'bup': 837, 'dreamer': 838, 'join': 839, 'leads': 840, 'enough': 841, 'did': 842, 'warm': 843, 'lies': 844, 'safe': 845, 'c': 846, 'sail': 847, 'ship': 848, 'chop': 849, 'skip': 850, 'rope': 851, 'celebrate': 852, 'penetrate': 853, 'pick': 854, 'radiate': 855, 'imitate': 856, 'lorry': 857, 'syndicate': 858, \"haven't\": 859, 'putting': 860, 'joke': 861, 'brain': 862, 'weeks': 863, 'insane': 864, 'park': 865, 'roof': 866, 'bag': 867, 'ukraine': 868, 'west': 869, 'moscow': 870, \"georgia's\": 871, 'hu': 872, 'mountain': 873, 'grin': 874, 'perfectly': 875, 'talking': 876, 'magic': 877, 'na': 878, \"everybody's\": 879, 'mi': 880, 'amore': 881, 'sleeps': 882, 'dressed': 883, \"sunday's\": 884, \"tuesday's\": 885, 'wall': 886, 'greet': 887, 'brand': 888, 'beautiful': 889, 'open': 890, 'happen': 891, 'bit': 892, 'command': 893, 'himself': 894, 'checked': 895, \"gideon's\": 896, 'bible': 897, 'rival': 898, 'called': 899, 'doc': 900, 'saying': 901, 'short': 902, 'fussing': 903, 'fighting': 904, 'crime': 905, 'oa': 906, 'troubles': 907, 'seemed': 908, 'far': 909, 'half': 910, 'used': 911, 'shadow': 912, 'hanging': 913, 'trouble': 914, 'hour': 915, 'darkness': 916, 'front': 917, 'hearted': 918, 'parted': 919, 'cloudy': 920, 'wake': 921, 'flowing': 922, 'endless': 923, 'slither': 924, 'wildly': 925, 'slip': 926, 'pools': 927, 'sorrow': 928, 'drifting': 929, 'possessing': 930, 'caressing': 931, 'images': 932, 'thoughts': 933, 'meander': 934, 'restless': 935, 'letter': 936, 'box': 937, 'tumble': 938, 'blindly': 939, 'laughter': 940, 'shades': 941, 'inciting': 942, 'inviting': 943, 'limitless': 944, 'undying': 945, 'suns': 946, 'afraid': 947, 'minute': 948, 'anytime': 949, 'refrain': 950, 'shoulders': 951, 'colder': 952, 'perform': 953, 'movement': 954, 'shoulder': 955, 'sunken': 956, 'winter': 957, 'returning': 958, 'faces': 959, 'ice': 960, 'melting': 961, 'clear': 962, 'sung': 963, 'shown': 964, 'meant': 965, \"mem'ries\": 966, 'closed': 967, 'misunderstanding': 968, 'sometimes': 969, 'disagree': 970, 'barrow': 971, 'marketplace': 972, 'trolley': 973, \"jeweler's\": 974, 'store': 975, 'buys': 976, 'carat': 977, 'sings': 978, 'fun': 979, 'bla': 980, \"'til\": 981, 'mornings': 982, 'yours': 983, 'lasts': 984, 'independence': 985, 'vanish': 986, 'haze': 987, 'insecure': 988, 'moves': 989, 'attracts': 990, 'woos': 991, 'asking': 992, 'stick': 993, 'top': 994, \"groovin'\": 995, 'eyeballs': 996, 'holy': 997, 'wear': 998, 'shoeshine': 999, 'toe': 1000, 'jam': 1001, 'football': 1002, 'monkey': 1003, 'coca': 1004, 'cola': 1005, 'production': 1006, 'gumboot': 1007, 'ono': 1008, 'sideboard': 1009, 'spinal': 1010, 'cracker': 1011, 'armchair': 1012, 'disease': 1013, 'coaster': 1014, 'warning': 1015, 'muddy': 1016, 'water': 1017, 'mojo': 1018, 'filter': 1019, 'bells': 1020, 'winging': 1021, 'revolution': 1022, 'evolution': 1023, 'destruction': 1024, 'solution': 1025, 'plan': 1026, 'contribution': 1027, 'minds': 1028, 'hate': 1029, 'constitution': 1030, 'institution': 1031, 'instead': 1032, 'carrying': 1033, 'chairman': 1034, 'mao': 1035, 'anyone': 1036, 'anyhow': 1037, 'born': 1038, 'submarines': 1039, 'aboard': 1040, 'boatswain': 1041, 'sergeant': 1042, 'ease': 1043, 'lifetime': 1044, 'catch': 1045, 'mattered': 1046, 'same': 1047, 'sang': 1048, 'key': 1049, 'certain': 1050, 'happens': 1051, 'cornflake': 1052, 'van': 1053, 'corporation': 1054, 't': 1055, 'shirt': 1056, 'bloody': 1057, 'tuesday': 1058, 'city': 1059, 'policeman': 1060, 'policemen': 1061, 'custard': 1062, 'dripping': 1063, \"dog's\": 1064, 'crabalocker': 1065, 'fishwife': 1066, 'pornographic': 1067, 'priestess': 1068, 'knickers': 1069, 'tan': 1070, 'maintains': 1071, 'fortune': 1072, 'expert': 1073, 'texpert': 1074, 'choking': 1075, 'smokers': 1076, 'laughs': 1077, 'sty': 1078, 'snide': 1079, 'semolina': 1080, 'pilchard': 1081, 'climbing': 1082, 'eiffel': 1083, 'tower': 1084, 'elementary': 1085, 'penguin': 1086, 'hare': 1087, 'krishna': 1088, 'kicking': 1089, 'edgar': 1090, 'allen': 1091, 'poe': 1092, 'servicible': 1093, 'villain': 1094, 'rest': 1095, 'floor': 1096, 'needs': 1097, 'sweeping': 1098, 'unfold': 1099, 'controlled': 1100, 'bought': 1101, 'sold': 1102, 'mistake': 1103, 'surely': 1104, 'learning': 1105, 'diverted': 1106, 'perverted': 1107, 'inverted': 1108, 'alerted': 1109, 'grade': 1110, 'photograph': 1111, 'blew': 1112, 'stood': 1113, 'stared': 1114, \"they'd\": 1115, 'lords': 1116, 'film': 1117, 'army': 1118, 'won': 1119, 'war': 1120, 'turned': 1121, 'having': 1122, 'woke': 1123, 'dragged': 1124, 'comb': 1125, 'downstairs': 1126, 'drank': 1127, 'coat': 1128, 'grabbed': 1129, 'hat': 1130, 'bus': 1131, 'seconds': 1132, 'upstairs': 1133, 'smoke': 1134, 'spoke': 1135, 'blackburn': 1136, 'lancashire': 1137, 'albert': 1138, 'hall': 1139, 'somehow': 1140, 'telling': 1141, 'showing': 1142, 'photographs': 1143, 'motorcar': 1144, 'wears': 1145, 'mac': 1146, 'hourglass': 1147, 'pocket': 1148, 'portrait': 1149, 'likes': 1150, 'engine': 1151, 'machine': 1152, 'fish': 1153, 'shelter': 1154, 'roundabout': 1155, 'nurse': 1156, 'selling': 1157, 'poppies': 1158, 'tray': 1159, 'anyway': 1160, 'customer': 1161, 'trim': 1162, 'rushes': 1163, 'loner': 1164, 'tucson': 1165, 'arizona': 1166, 'california': 1167, 'grass': 1168, 'jo': 1169, 'martin': 1170, 'dot': 1171, 'await': 1172, 'aaaaaahhhhhh': 1173, 'blows': 1174, 'aaaaaaaahhhh': 1175, 'aaaaaaahhhh': 1176, 'aaaaahhhhhhhhhh': 1177, 'river': 1178, 'tangerine': 1179, 'trees': 1180, 'marmalade': 1181, 'cellophane': 1182, 'towering': 1183, 'follow': 1184, 'bridge': 1185, 'fountain': 1186, 'horse': 1187, 'marshmallow': 1188, 'drift': 1189, 'incredibly': 1190, 'newspaper': 1191, 'taxis': 1192, 'shore': 1193, 'climb': 1194, 'train': 1195, 'station': 1196, 'plasticine': 1197, 'porters': 1198, 'glass': 1199, 'ties': 1200, 'turnstile': 1201, 'kid': 1202, 'moved': 1203, 'neighborhood': 1204, 'sits': 1205, 'put': 1206, 'tacks': 1207, 'teachers': 1208, 'chewing': 1209, 'gum': 1210, \"girl's\": 1211, 'magazine': 1212, 'dime': 1213, 'jukebox': 1214, 'worries': 1215, 'poop': 1216, 'rolling': 1217, 'hula': 1218, 'hoop': 1219, 'mama': 1220, 'took': 1221, 'canary': 1222, 'fed': 1223, 'neighbors': 1224, 'cat': 1225, 'gave': 1226, 'cocker': 1227, 'spaniel': 1228, \"mother's\": 1229, 'laundromat': 1230, \"mama's\": 1231, 'tenderly': 1232, 'ours': 1233, 'showed': 1234, 'asked': 1235, 'anywhere': 1236, \"wasn't\": 1237, 'sat': 1238, 'rug': 1239, 'biding': 1240, 'drinking': 1241, 'talked': 1242, 'started': 1243, 'crawled': 1244, 'awoke': 1245, 'bird': 1246, 'flown': 1247, 'lit': 1248, \"goin'\": 1249, 'almost': 1250, 'hurting': 1251, 'fair': 1252, 'apologize': 1253, 'picks': 1254, 'rice': 1255, 'wedding': 1256, 'lives': 1257, 'jar': 1258, 'sermon': 1259, 'darning': 1260, 'socks': 1261, 'buried': 1262, 'wiping': 1263, 'dirt': 1264, 'walks': 1265, 'grave': 1266, 'seventeen': 1267, 'beyond': 1268, 'compare': 1269, 'pretend': 1270, 'kissing': 1271, 'worth': 1272, 'shining': 1273, 'burns': 1274, 'shady': 1275, 'proud': 1276, 'cos': 1277, \"your's\": 1278, 'evermore': 1279, 'pepper': 1280, 'taught': 1281, \"they've\": 1282, 'guaranteed': 1283, 'raise': 1284, 'act': 1285, 'enjoy': 1286, 'certainly': 1287, 'thrill': 1288, 'lovely': 1289, 'audience': 1290, \"singer's\": 1291, 'billy': 1292, 'shears': 1293, 'year': 1294, 'changing': 1295, 'wave': 1296, 'deny': 1297, 'both': 1298, \"m'mm\": 1299, 'aware': 1300, 'missed': 1301, 'kept': 1302, 'lup': 1303, 'hell': 1304, 'above': 1305, 'countries': 1306, 'kill': 1307, 'religion': 1308, 'possessions': 1309, 'greed': 1310, 'hunger': 1311, 'brotherhood': 1312, 'sharing': 1313, 'disappear': 1314, 'wild': 1315, 'windy': 1316, 'washed': 1317, 'pool': 1318, 'tears': 1319, 'story': 1320, 'sorry': 1321, 'regret': 1322, 'single': 1323, 'promises': 1324, 'acts': 1325, 'understood': 1326, 'earn': 1327, 'leisure': 1328, \"he'd\": 1329, 'storm': 1330, 'hideaway': 1331, 'resting': 1332, 'cave': 1333, 'swim': 1334, 'coral': 1335, 'ocean': 1336, 'nine': 1337, 'b': 1338, 'd': 1339, 'bring': 1340, 'tea': 1341, 'f': 1342, 'g': 1343, 'h': 1344, 'j': 1345, 'white': 1346, 'red': 1347, 'pink': 1348, 'brown': 1349, 'orange': 1350, 'dig': 1351, 'pony': 1352, 'hog': 1353, 'moon': 1354, 'stoney': 1355, 'blow': 1356, 'load': 1357, 'beg': 1358, 'promise': 1359, 'trust': 1360, \"couldn't\": 1361, 'vain': 1362, 'learns': 1363, 'slept': 1364, 'wink': 1365, 'blink': 1366, 'fix': 1367, 'drink': 1368, 'upset': 1369, 'although': 1370, 'cigarette': 1371, 'curse': 1372, 'walter': 1373, 'raleigh': 1374, 'sheepdog': 1375, 'bullfrog': 1376, 'happiness': 1377, 'miles': 1378, 'childlike': 1379, 'understands': 1380, 'jackknife': 1381, 'sweaty': 1382, 'innocence': 1383, 'fears': 1384, 'big': 1385, 'walking': 1386, 'wigwam': 1387, 'frightened': 1388, 'solitude': 1389, 'clue': 1390, 'roar': 1391, 'woof': 1392, 'whats': 1393, 'ya': 1394, 'wo': 1395, 'flew': 1396, 'miami': 1397, 'beach': 1398, 'boac': 1399, 'dreadful': 1400, 'flight': 1401, 'gee': 1402, 'unpack': 1403, 'case': 1404, 'disconnect': 1405, 'boys': 1406, 'snow': 1407, 'peaked': 1408, 'south': 1409, \"daddy's\": 1410, 'farm': 1411, \"balalaika's\": 1412, 'comrade': 1413, 'foolish': 1414, 'keeping': 1415, 'cloud': 1416, 'voices': 1417, 'hears': 1418, 'appears': 1419, 'feelings': 1420, 'listens': 1421, 'fools': 1422, 'funny': 1423, 'negotiations': 1424, 'number': 1425, 'situation': 1426, 'investigation': 1427, 'college': 1428, 'spent': 1429, 'future': 1430, \"money's\": 1431, 'jobber': 1432, 'sack': 1433, 'slow': 1434, 'bags': 1435, 'limousine': 1436, \"we'll\": 1437, 'step': 1438, 'gas': 1439, 'wipe': 1440, 'tear': 1441, 'laughing': 1442, 'quando': 1443, 'paramucho': 1444, 'defelice': 1445, 'corazon': 1446, 'mundo': 1447, 'pararazzi': 1448, 'chicka': 1449, 'ferdy': 1450, 'parasol': 1451, 'cuesto': 1452, 'obrigado': 1453, 'tanta': 1454, 'mucho': 1455, 'cake': 1456, 'carousel': 1457, 'mustard': 1458, 'tryin': 1459, 'hole': 1460, 'saving': 1461, 'clothes': 1462, 'bob': 1463, 'note': 1464, 'nose': 1465, 'sister': 1466, 'stops': 1467, 'getter': 1468, 'shouts': 1469, 'obscene': 1470, 'drag': 1471, 'dose': 1472, 'jackboots': 1473, 'kilt': 1474, 'killer': 1475, 'diller': 1476, 'hilt': 1477, 'attractively': 1478, 'john': 1479, 'paul': 1480, 'bathroom': 1481, 'protected': 1482, 'spoon': 1483, 'sucks': 1484, 'thumb': 1485, 'wonders': 1486, 'banks': 1487, 'lagoon': 1488, \"she'd\": 1489, 'dancer': 1490, 'fifteen': 1491, 'clubs': 1492, 'quit': 1493, 'police': 1494, 'department': 1495, 'steady': 1496, 'job': 1497, 'best': 1498, 'steal': 1499, 'rob': 1500, 'changes': 1501, 'bellyful': 1502, 'riding': 1503, 'spending': 1504, \"someone's\": 1505, 'earned': 1506, 'driving': 1507, 'arriving': 1508, 'postcards': 1509, 'letters': 1510, 'burning': 1511, 'matches': 1512, 'lifting': 1513, 'latches': 1514, 'longer': 1515, 'stretches': 1516, 'raincoats': 1517, 'chasing': 1518, 'part': 1519, 'child': 1520, 'daisy': 1521, 'chain': 1522, 'blind': 1523, 'hurry': 1524, 'else': 1525, 'lends': 1526, 'hills': 1527, 'dakota': 1528, 'named': 1529, 'ran': 1530, 'guy': 1531, 'hit': 1532, 'walked': 1533, 'booked': 1534, 'local': 1535, 'saloon': 1536, 'equipped': 1537, 'legs': 1538, 'stealing': 1539, 'fancy': 1540, 'magill': 1541, 'herself': 1542, 'lil': 1543, 'nancy': 1544, 'dan': 1545, 'hoe': 1546, 'burst': 1547, 'grinning': 1548, 'danny': 1549, 'showdown': 1550, 'daniel': 1551, 'hot': 1552, 'drew': 1553, 'shot': 1554, 'collapsed': 1555, 'doctor': 1556, 'stinking': 1557, 'gin': 1558, 'proceeded': 1559, 'table': 1560, 'match': 1561, 'scratch': 1562, 'able': 1563, 'gideon': 1564, 'doubt': 1565, \"rocky's\": 1566, 'revival': 1567, 'risk': 1568, 'straight': 1569, 'joan': 1570, 'quizzical': 1571, 'studied': 1572, 'pataphysical': 1573, 'science': 1574, 'nights': 1575, 'test': 1576, 'tube': 1577, 'edison': 1578, 'majoring': 1579, 'medicine': 1580, 'joa': 1581, 'oan': 1582, 'annoyed': 1583, 'wishing': 1584, 'avoid': 1585, 'unpleasant': 1586, 'sce': 1587, 'ene': 1588, 'max': 1589, 'class': 1590, 'fifty': 1591, 'creeps': 1592, 'p': 1593, 'thirty': 1594, 'caught': 1595, 'stands': 1596, 'painting': 1597, 'testimonial': 1598, 'rose': 1599, 'valerie': 1600, 'screaming': 1601, 'gallery': 1602, 'judge': 1603, 'leaving': 1604, 'noise': 1605, 'foot': 1606, 'stare': 1607, 'win': 1608, 'hearing': 1609, 'seeing': 1610, 'state': 1611, 'gather': 1612, 'clowns': 1613, 'complaining': 1614, 'pleasing': 1615, 'reason': 1616, 'nineteen': 1617, 'per': 1618, 'cent': 1619, 'thankful': 1620, 'drive': 1621, 'street': 1622, 'seat': 1623, 'heat': 1624, 'advice': 1625, 'those': 1626, 'declare': 1627, 'pennies': 1628}\n",
            "1629\n"
          ]
        }
      ]
    },
    {
      "cell_type": "code",
      "source": [
        "input_sequences=[]\n",
        "for line in corpus:\n",
        "  token_list= tokenizer.texts_to_sequences([line])[0]\n",
        "  for i in range(1, len(token_list)):\n",
        "    n_gram_sequence= token_list[:i+1]\n",
        "    input_sequences.append(n_gram_sequence)"
      ],
      "metadata": {
        "id": "VJSH-9RQnZJK"
      },
      "execution_count": 10,
      "outputs": []
    },
    {
      "cell_type": "code",
      "source": [
        "#padding\n",
        "\n",
        "max_sequence_len=max([len(x)  for x in input_sequences])\n",
        "input_sequences= pad_sequences(input_sequences,maxlen=max_sequence_len, padding='pre')\n",
        "max_sequence_len"
      ],
      "metadata": {
        "colab": {
          "base_uri": "https://localhost:8080/"
        },
        "id": "lxPp2UMIqWqx",
        "outputId": "354d533f-395f-4ae0-d57b-32aaad3793c2"
      },
      "execution_count": 11,
      "outputs": [
        {
          "output_type": "execute_result",
          "data": {
            "text/plain": [
              "34"
            ]
          },
          "metadata": {},
          "execution_count": 11
        }
      ]
    },
    {
      "cell_type": "code",
      "source": [
        "xs , label = input_sequences[:,:-1] , input_sequences[:,-1]\n"
      ],
      "metadata": {
        "id": "0sIZeR8LrTSY"
      },
      "execution_count": 12,
      "outputs": []
    },
    {
      "cell_type": "code",
      "source": [
        "label[55]"
      ],
      "metadata": {
        "colab": {
          "base_uri": "https://localhost:8080/"
        },
        "id": "AacoALcjsnPu",
        "outputId": "c1143d84-3b46-4946-bd8d-984cfcce3652"
      },
      "execution_count": 13,
      "outputs": [
        {
          "output_type": "execute_result",
          "data": {
            "text/plain": [
              "200"
            ]
          },
          "metadata": {},
          "execution_count": 13
        }
      ]
    },
    {
      "cell_type": "code",
      "source": [
        "ys= tf.keras.utils.to_categorical(label,num_classes=total_words)\n",
        "len(ys[0])"
      ],
      "metadata": {
        "colab": {
          "base_uri": "https://localhost:8080/"
        },
        "id": "kZgvVrvdso-8",
        "outputId": "bb453a5e-70c9-48f3-ec28-2ac5141d6eea"
      },
      "execution_count": 14,
      "outputs": [
        {
          "output_type": "execute_result",
          "data": {
            "text/plain": [
              "1629"
            ]
          },
          "metadata": {},
          "execution_count": 14
        }
      ]
    },
    {
      "cell_type": "code",
      "source": [
        "model= Sequential()\n",
        "model.add(Embedding(total_words, 100, input_length= max_sequence_len-1))\n",
        "model.add(Bidirectional(LSTM(150)))\n",
        "model.add(Dense(total_words,activation='softmax'))\n",
        "adam= Adam(lr=0.01)\n",
        "model.compile(loss='categorical_crossentropy',optimizer=adam, metrics=['accuracy'])\n",
        "history=model.fit(xs , ys, epochs= 25, verbose=1)\n",
        "print(model)"
      ],
      "metadata": {
        "colab": {
          "base_uri": "https://localhost:8080/"
        },
        "id": "Rs9wPQRUtLW6",
        "outputId": "bb81e2a8-0fb4-4a2d-cd2d-035ffdad1ed9"
      },
      "execution_count": 15,
      "outputs": [
        {
          "output_type": "stream",
          "name": "stderr",
          "text": [
            "WARNING:absl:`lr` is deprecated in Keras optimizer, please use `learning_rate` or use the legacy optimizer, e.g.,tf.keras.optimizers.legacy.Adam.\n"
          ]
        },
        {
          "output_type": "stream",
          "name": "stdout",
          "text": [
            "Epoch 1/25\n",
            "392/392 [==============================] - 18s 34ms/step - loss: 6.0338 - accuracy: 0.0537\n",
            "Epoch 2/25\n",
            "392/392 [==============================] - 5s 12ms/step - loss: 5.3536 - accuracy: 0.0962\n",
            "Epoch 3/25\n",
            "392/392 [==============================] - 4s 10ms/step - loss: 4.7333 - accuracy: 0.1576\n",
            "Epoch 4/25\n",
            "392/392 [==============================] - 5s 12ms/step - loss: 4.1753 - accuracy: 0.2298\n",
            "Epoch 5/25\n",
            "392/392 [==============================] - 3s 9ms/step - loss: 3.6733 - accuracy: 0.2935\n",
            "Epoch 6/25\n",
            "392/392 [==============================] - 4s 9ms/step - loss: 3.2403 - accuracy: 0.3567\n",
            "Epoch 7/25\n",
            "392/392 [==============================] - 4s 9ms/step - loss: 2.8623 - accuracy: 0.4182\n",
            "Epoch 8/25\n",
            "392/392 [==============================] - 4s 10ms/step - loss: 2.5406 - accuracy: 0.4740\n",
            "Epoch 9/25\n",
            "392/392 [==============================] - 3s 8ms/step - loss: 2.2603 - accuracy: 0.5267\n",
            "Epoch 10/25\n",
            "392/392 [==============================] - 4s 9ms/step - loss: 2.0193 - accuracy: 0.5756\n",
            "Epoch 11/25\n",
            "392/392 [==============================] - 4s 11ms/step - loss: 1.8059 - accuracy: 0.6181\n",
            "Epoch 12/25\n",
            "392/392 [==============================] - 3s 9ms/step - loss: 1.6204 - accuracy: 0.6547\n",
            "Epoch 13/25\n",
            "392/392 [==============================] - 3s 8ms/step - loss: 1.4574 - accuracy: 0.6889\n",
            "Epoch 14/25\n",
            "392/392 [==============================] - 4s 10ms/step - loss: 1.3162 - accuracy: 0.7196\n",
            "Epoch 15/25\n",
            "392/392 [==============================] - 4s 9ms/step - loss: 1.1917 - accuracy: 0.7430\n",
            "Epoch 16/25\n",
            "392/392 [==============================] - 3s 9ms/step - loss: 1.0842 - accuracy: 0.7644\n",
            "Epoch 17/25\n",
            "392/392 [==============================] - 4s 9ms/step - loss: 0.9912 - accuracy: 0.7837\n",
            "Epoch 18/25\n",
            "392/392 [==============================] - 4s 10ms/step - loss: 0.9067 - accuracy: 0.7955\n",
            "Epoch 19/25\n",
            "392/392 [==============================] - 4s 11ms/step - loss: 0.8342 - accuracy: 0.8123\n",
            "Epoch 20/25\n",
            "392/392 [==============================] - 3s 9ms/step - loss: 0.7738 - accuracy: 0.8224\n",
            "Epoch 21/25\n",
            "392/392 [==============================] - 4s 11ms/step - loss: 0.7191 - accuracy: 0.8314\n",
            "Epoch 22/25\n",
            "392/392 [==============================] - 3s 8ms/step - loss: 0.6746 - accuracy: 0.8355\n",
            "Epoch 23/25\n",
            "392/392 [==============================] - 3s 8ms/step - loss: 0.6336 - accuracy: 0.8444\n",
            "Epoch 24/25\n",
            "392/392 [==============================] - 4s 10ms/step - loss: 0.6003 - accuracy: 0.8475\n",
            "Epoch 25/25\n",
            "392/392 [==============================] - 3s 8ms/step - loss: 0.5717 - accuracy: 0.8520\n",
            "<keras.src.engine.sequential.Sequential object at 0x784f30927d60>\n"
          ]
        }
      ]
    },
    {
      "cell_type": "code",
      "source": [
        "seed_text='The battle in'\n",
        "next_words=20\n",
        "\n",
        "for _ in range(next_words):\n",
        "  token_list=tokenizer.texts_to_sequences([seed_text])[0]\n",
        "  token_list=pad_sequences([token_list],maxlen=max_sequence_len-1,padding='pre')\n",
        "  predicted= np.argmax(model.predict(token_list),axis=-1)\n",
        "  output_word=\"\"\n",
        "  for word, index in tokenizer.word_index.items():\n",
        "    if index==predicted:\n",
        "      output_word=word\n",
        "      break\n",
        "  seed_text+=\" \" + output_word\n",
        "\n",
        "  print(seed_text)"
      ],
      "metadata": {
        "id": "E_S1miQFzZAE",
        "outputId": "7d961b01-54db-4fe4-c38a-1d80d4af06f1",
        "colab": {
          "base_uri": "https://localhost:8080/"
        }
      },
      "execution_count": 17,
      "outputs": [
        {
          "output_type": "stream",
          "name": "stdout",
          "text": [
            "1/1 [==============================] - 1s 939ms/step\n",
            "The battle in penny\n",
            "1/1 [==============================] - 0s 37ms/step\n",
            "The battle in penny lane\n",
            "1/1 [==============================] - 0s 37ms/step\n",
            "The battle in penny lane is\n",
            "1/1 [==============================] - 0s 34ms/step\n",
            "The battle in penny lane is in\n",
            "1/1 [==============================] - 0s 29ms/step\n",
            "The battle in penny lane is in my\n",
            "1/1 [==============================] - 0s 19ms/step\n",
            "The battle in penny lane is in my ears\n",
            "1/1 [==============================] - 0s 19ms/step\n",
            "The battle in penny lane is in my ears and\n",
            "1/1 [==============================] - 0s 18ms/step\n",
            "The battle in penny lane is in my ears and in\n",
            "1/1 [==============================] - 0s 19ms/step\n",
            "The battle in penny lane is in my ears and in my\n",
            "1/1 [==============================] - 0s 21ms/step\n",
            "The battle in penny lane is in my ears and in my eyes\n",
            "1/1 [==============================] - 0s 21ms/step\n",
            "The battle in penny lane is in my ears and in my eyes in\n",
            "1/1 [==============================] - 0s 21ms/step\n",
            "The battle in penny lane is in my ears and in my eyes in my\n",
            "1/1 [==============================] - 0s 21ms/step\n",
            "The battle in penny lane is in my ears and in my eyes in my eyes\n",
            "1/1 [==============================] - 0s 21ms/step\n",
            "The battle in penny lane is in my ears and in my eyes in my eyes in\n",
            "1/1 [==============================] - 0s 19ms/step\n",
            "The battle in penny lane is in my ears and in my eyes in my eyes in my\n",
            "1/1 [==============================] - 0s 19ms/step\n",
            "The battle in penny lane is in my ears and in my eyes in my eyes in my eyes\n",
            "1/1 [==============================] - 0s 18ms/step\n",
            "The battle in penny lane is in my ears and in my eyes in my eyes in my eyes in\n",
            "1/1 [==============================] - 0s 18ms/step\n",
            "The battle in penny lane is in my ears and in my eyes in my eyes in my eyes in my\n",
            "1/1 [==============================] - 0s 18ms/step\n",
            "The battle in penny lane is in my ears and in my eyes in my eyes in my eyes in my eyes\n",
            "1/1 [==============================] - 0s 17ms/step\n",
            "The battle in penny lane is in my ears and in my eyes in my eyes in my eyes in my eyes in\n"
          ]
        }
      ]
    }
  ]
}